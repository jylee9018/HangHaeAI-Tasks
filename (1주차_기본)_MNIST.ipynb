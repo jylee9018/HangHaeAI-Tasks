{
  "nbformat": 4,
  "nbformat_minor": 0,
  "metadata": {
    "colab": {
      "provenance": [],
      "collapsed_sections": [
        "Clk5zspHv44T"
      ],
      "gpuType": "T4",
      "authorship_tag": "ABX9TyN3VclirzSCTaLOPuY3WPVD",
      "include_colab_link": true
    },
    "kernelspec": {
      "name": "python3",
      "display_name": "Python 3"
    },
    "language_info": {
      "name": "python"
    },
    "accelerator": "GPU"
  },
  "cells": [
    {
      "cell_type": "markdown",
      "metadata": {
        "id": "view-in-github",
        "colab_type": "text"
      },
      "source": [
        "<a href=\"https://colab.research.google.com/github/jylee9018/TIL-Tasks/blob/main/(1%EC%A3%BC%EC%B0%A8_%EA%B8%B0%EB%B3%B8)_MNIST.ipynb\" target=\"_parent\"><img src=\"https://colab.research.google.com/assets/colab-badge.svg\" alt=\"Open In Colab\"/></a>"
      ]
    },
    {
      "cell_type": "markdown",
      "source": [
        "- 1주차 기본과제: MNIST\n",
        "- 제출일: 2025.03.28."
      ],
      "metadata": {
        "id": "3mkRngOWRMVb"
      }
    },
    {
      "cell_type": "markdown",
      "source": [
        "### 0. Importing Libraries"
      ],
      "metadata": {
        "id": "pCOIjDaOKVFl"
      }
    },
    {
      "cell_type": "code",
      "execution_count": 1,
      "metadata": {
        "id": "h-ugkIsOKAmb"
      },
      "outputs": [],
      "source": [
        "import torch\n",
        "from torch import nn\n",
        "from torch.utils.data import DataLoader\n",
        "from torchvision import datasets\n",
        "from torchvision.transforms import ToTensor\n",
        "\n",
        "import numpy as np\n",
        "from matplotlib import pyplot as plt"
      ]
    },
    {
      "cell_type": "markdown",
      "source": [
        "### 1. Datasets & Data loaders\n",
        "with the following parameters:\n",
        "- `root` is the path where the train/test data is stored,\n",
        "- `train` specifies training or test dataset,\n",
        "- `download=True` downloads the data from the internet if it’s not available at root.\n",
        "- `transform` and `target_transform` specify the feature and label transformations"
      ],
      "metadata": {
        "id": "U8YbH6dELrgx"
      }
    },
    {
      "cell_type": "code",
      "source": [
        "# Download training data from open datasets.\n",
        "train_data = datasets.MNIST(\n",
        "    root=\"./data\",\n",
        "    train=True,\n",
        "    download=True,\n",
        "    transform=ToTensor(),\n",
        ")\n",
        "\n",
        "# Download test data from open datasets.\n",
        "test_data = datasets.MNIST(\n",
        "    root=\"./data\",\n",
        "    train=False,\n",
        "    download=True,\n",
        "    transform=ToTensor(),\n",
        ")"
      ],
      "metadata": {
        "id": "zgNHXAyiKTt4"
      },
      "execution_count": 2,
      "outputs": []
    },
    {
      "cell_type": "code",
      "source": [
        "print(train_data)\n",
        "print(test_data)"
      ],
      "metadata": {
        "colab": {
          "base_uri": "https://localhost:8080/"
        },
        "id": "IZepQ8WeLTzE",
        "outputId": "82c6ccfb-a480-43b7-ae13-4d078b6767c9"
      },
      "execution_count": 3,
      "outputs": [
        {
          "output_type": "stream",
          "name": "stdout",
          "text": [
            "Dataset MNIST\n",
            "    Number of datapoints: 60000\n",
            "    Root location: ./data\n",
            "    Split: Train\n",
            "    StandardTransform\n",
            "Transform: ToTensor()\n",
            "Dataset MNIST\n",
            "    Number of datapoints: 10000\n",
            "    Root location: ./data\n",
            "    Split: Test\n",
            "    StandardTransform\n",
            "Transform: ToTensor()\n"
          ]
        }
      ]
    },
    {
      "cell_type": "code",
      "source": [
        "print(len(train_data))\n",
        "print(len(train_data[0]))\n",
        "print(len(train_data[0][0]))\n",
        "print(len(train_data[0][0][0]))\n",
        "print(len(train_data[0][0][0][0]))\n",
        "print(train_data[0][0].shape, train_data[0][1])\n",
        "\n",
        "plt.imshow(train_data[0][0][0], cmap='gray')"
      ],
      "metadata": {
        "colab": {
          "base_uri": "https://localhost:8080/",
          "height": 555
        },
        "id": "_JRIxz4yIysD",
        "outputId": "8f030327-4056-44ba-a07a-6db47e856a3d"
      },
      "execution_count": 54,
      "outputs": [
        {
          "output_type": "stream",
          "name": "stdout",
          "text": [
            "60000\n",
            "2\n",
            "1\n",
            "28\n",
            "28\n",
            "torch.Size([1, 28, 28]) 5\n"
          ]
        },
        {
          "output_type": "execute_result",
          "data": {
            "text/plain": [
              "<matplotlib.image.AxesImage at 0x7b63ace4ef50>"
            ]
          },
          "metadata": {},
          "execution_count": 54
        },
        {
          "output_type": "display_data",
          "data": {
            "text/plain": [
              "<Figure size 640x480 with 1 Axes>"
            ],
            "image/png": "[encoded data removed]"
          },
          "metadata": {}
        }
      ]
    },
    {
      "cell_type": "code",
      "source": [
        "X, y = train_data[0]            # 첫 번째 데이터포인트\n",
        "print(f\"Shape of X: {X.shape}\") # 이미지 텐서의 Shape 출력\n",
        "print(f\"Label: {y}\")            # 해당 이미지의 정답 레이블 출력"
      ],
      "metadata": {
        "colab": {
          "base_uri": "https://localhost:8080/"
        },
        "id": "ozQlz5v3pndC",
        "outputId": "9c5f33f4-209f-4572-a36b-ab8b1afbdd1c"
      },
      "execution_count": 28,
      "outputs": [
        {
          "output_type": "stream",
          "name": "stdout",
          "text": [
            "Shape of X: torch.Size([1, 28, 28])\n",
            "Label: 5\n"
          ]
        }
      ]
    },
    {
      "cell_type": "code",
      "source": [
        " # batch_size = 64\n",
        "batch_size=256\n",
        "\n",
        "# Create data loaders.\n",
        "train_dataloader = DataLoader(train_data, batch_size=batch_size)\n",
        "test_dataloader = DataLoader(test_data, batch_size=batch_size)\n",
        "\n",
        "print(f\"train data loder\")\n",
        "for X, y in train_dataloader:\n",
        "    print(f\"Shape of X [N, C, H, W]: {X.shape}\")\n",
        "    print(f\"Shape of y: {y.shape} {y.dtype}\")\n",
        "    break\n",
        "\n",
        "print(f\"\\ntest data loder\")\n",
        "for X, y in test_dataloader:\n",
        "    print(f\"Shape of X [N, C, H, W]: {X.shape}\")\n",
        "    print(f\"Shape of y: {y.shape} {y.dtype}\")\n",
        "    break"
      ],
      "metadata": {
        "colab": {
          "base_uri": "https://localhost:8080/"
        },
        "id": "C9HksI_1Kma5",
        "outputId": "1f06564a-502c-4832-e206-a7f93451edfc"
      },
      "execution_count": 5,
      "outputs": [
        {
          "output_type": "stream",
          "name": "stdout",
          "text": [
            "train data loder\n",
            "Shape of X [N, C, H, W]: torch.Size([256, 1, 28, 28])\n",
            "Shape of y: torch.Size([256]) torch.int64\n",
            "\n",
            "test data loder\n",
            "Shape of X [N, C, H, W]: torch.Size([256, 1, 28, 28])\n",
            "Shape of y: torch.Size([256]) torch.int64\n"
          ]
        }
      ]
    },
    {
      "cell_type": "markdown",
      "source": [
        "### 2. Creating Models"
      ],
      "metadata": {
        "id": "S3CmAwqZLyfm"
      }
    },
    {
      "cell_type": "code",
      "source": [
        "device = torch.accelerator.current_accelerator().type if torch.accelerator.is_available() else \"cpu\"\n",
        "print(f\"Using {device} device\")\n",
        "\n",
        "# Define model\n",
        "class Model(nn.Module):\n",
        "  def __init__(self, input_dim, n_dim):\n",
        "    super().__init__()\n",
        "\n",
        "    self.layer1 = nn.Linear(input_dim, n_dim)  # n_dim은 실험의 영역\n",
        "    self.layer2 = nn.Linear(n_dim, n_dim)\n",
        "    # self.layer3 = nn.Linear(n_dim, 1)\n",
        "    self.layer3 = nn.Linear(n_dim, 10)\n",
        "\n",
        "    self.act = nn.ReLU()\n",
        "\n",
        "  def forward(self, x):\n",
        "    x = torch.flatten(x, start_dim=1)\n",
        "    x = self.act(self.layer1(x))\n",
        "    x = self.act(self.layer2(x))\n",
        "    x = self.act(self.layer3(x))\n",
        "\n",
        "    return x\n",
        "\n",
        "\n",
        "model = Model(28 * 28 * 1, 1024).to(device)\n",
        "print(model)"
      ],
      "metadata": {
        "colab": {
          "base_uri": "https://localhost:8080/"
        },
        "id": "WtNt_xCRLDTr",
        "outputId": "41a4e460-9341-4f99-fb79-615d14b4cd7d"
      },
      "execution_count": 6,
      "outputs": [
        {
          "output_type": "stream",
          "name": "stdout",
          "text": [
            "Using cuda device\n",
            "Model(\n",
            "  (layer1): Linear(in_features=784, out_features=1024, bias=True)\n",
            "  (layer2): Linear(in_features=1024, out_features=1024, bias=True)\n",
            "  (layer3): Linear(in_features=1024, out_features=10, bias=True)\n",
            "  (act): ReLU()\n",
            ")\n"
          ]
        }
      ]
    },
    {
      "cell_type": "markdown",
      "source": [
        "### 3. Optimizing the Model Parameters"
      ],
      "metadata": {
        "id": "8ym0-mUVM8DX"
      }
    },
    {
      "cell_type": "code",
      "source": [
        "loss_fn = nn.CrossEntropyLoss()\n",
        "optimizer = torch.optim.SGD(model.parameters(), lr=1e-3)"
      ],
      "metadata": {
        "id": "AsIwGUz2MSge"
      },
      "execution_count": 7,
      "outputs": []
    },
    {
      "cell_type": "code",
      "source": [
        "# 손실 및 정확도 저장 리스트\n",
        "train_losses = []\n",
        "test_losses = []\n",
        "train_accuracies = []\n",
        "test_accuracies = []"
      ],
      "metadata": {
        "id": "pe0bXwfSUeg6"
      },
      "execution_count": 8,
      "outputs": []
    },
    {
      "cell_type": "code",
      "source": [
        "def train(dataloader, model, loss_fn, optimizer):\n",
        "    size = len(dataloader.dataset)\n",
        "    model.train()\n",
        "\n",
        "    total_loss, correct, total = 0., 0, 0\n",
        "    for batch, (X, y) in enumerate(dataloader):\n",
        "        X, y = X.to(device), y.to(device)\n",
        "\n",
        "        # 예측 및 손실 계산\n",
        "        pred = model(X)\n",
        "        loss = loss_fn(pred, y)\n",
        "\n",
        "        # 역전파(Backpropagation)\n",
        "        loss.backward()\n",
        "        optimizer.step()\n",
        "        optimizer.zero_grad()\n",
        "\n",
        "        # 손실 및 정확도 계산\n",
        "        total_loss += loss.item()  # 배치의 손실을 누적\n",
        "        correct += (pred.argmax(1) == y).type(torch.float).sum().item()\n",
        "        total += y.size(0)\n",
        "\n",
        "    # 훈련 데이터 정확도 저장\n",
        "    train_accuracy = correct / total * 100\n",
        "    train_accuracies.append(train_accuracy)\n",
        "\n",
        "    # 평균 손실 반환\n",
        "    return total_loss / size  # 데이터셋 크기로 나눠 평균 손실 반환"
      ],
      "metadata": {
        "id": "ToQzYGqsNBbq"
      },
      "execution_count": 9,
      "outputs": []
    },
    {
      "cell_type": "markdown",
      "source": [
        "##### `argmax(dim=n)`:\n"
      ],
      "metadata": {
        "id": "Clk5zspHv44T"
      }
    },
    {
      "cell_type": "markdown",
      "source": [
        "    - 특정 차원(dim)에서 최댓값을 갖는 인덱스(index) 반환\n",
        "    - PyTorch\n",
        "        - `torch.argmax()`\n",
        "    - Numpy\n",
        "        - `np.argmax()`"
      ],
      "metadata": {
        "id": "VuGXr5p-CY8v"
      }
    },
    {
      "cell_type": "code",
      "source": [
        "a = torch.tensor(\n",
        "    [[1., 0.5, 0.],\n",
        "     [0., 1., 0.5],\n",
        "     [0., 0.5, 1.]])\n",
        "\n",
        "print(a.argmax(1))\n",
        "\n",
        "b = np.array(\n",
        "    [[1., 0.5, 0.],\n",
        "     [0., 1., 0.5],\n",
        "     [0., 0.5, 1.]])\n",
        "\n",
        "print(b.argmax(1))"
      ],
      "metadata": {
        "colab": {
          "base_uri": "https://localhost:8080/"
        },
        "id": "DF73VMwpvGh6",
        "outputId": "7051b04e-5b5d-4b09-89ab-f5eba9d437c9"
      },
      "execution_count": 10,
      "outputs": [
        {
          "output_type": "stream",
          "name": "stdout",
          "text": [
            "tensor([0, 1, 2])\n",
            "[0 1 2]\n"
          ]
        }
      ]
    },
    {
      "cell_type": "markdown",
      "source": [
        "### ."
      ],
      "metadata": {
        "id": "xKxOwzUKCh1z"
      }
    },
    {
      "cell_type": "code",
      "source": [
        "def test(dataloader, model, loss_fn):\n",
        "    size = len(dataloader.dataset)\n",
        "    model.eval()\n",
        "\n",
        "    total_loss, correct, total = 0., 0, 0\n",
        "    with torch.no_grad():\n",
        "        for X, y in dataloader:\n",
        "            X, y = X.to(device), y.to(device)\n",
        "            pred = model(X)\n",
        "            total_loss += loss_fn(pred, y).item()\n",
        "\n",
        "            # 정확도 계산\n",
        "            correct += (pred.argmax(1) == y).type(torch.float).sum().item()\n",
        "            total += y.size(0)\n",
        "\n",
        "    # 테스트 데이터 정확도 저장\n",
        "    test_accuracy = correct / total * 100\n",
        "    test_accuracies.append(test_accuracy)\n",
        "\n",
        "    # 평균 손실 반환\n",
        "    return total_loss / size"
      ],
      "metadata": {
        "id": "wKuq4s8iNCsb"
      },
      "execution_count": 11,
      "outputs": []
    },
    {
      "cell_type": "code",
      "source": [
        "# 모델 학습\n",
        "n_epochs = 100\n",
        "for epoch in range(n_epochs):\n",
        "    train_loss = train(train_dataloader, model, loss_fn, optimizer)\n",
        "    test_loss = test(test_dataloader, model, loss_fn)\n",
        "\n",
        "    # 결과 출력\n",
        "    print(f\"Epoch {epoch + 1:3d}\")\n",
        "    print(f\"| Loss(Train): {train_loss:.6f} | Loss(Test) : {test_loss:.6f}\")\n",
        "\n",
        "print(\"\\nDone!\")"
      ],
      "metadata": {
        "colab": {
          "base_uri": "https://localhost:8080/"
        },
        "id": "05y6K8PLNMi0",
        "outputId": "9185e936-e283-43cf-887e-f3ddd1717c7d"
      },
      "execution_count": 12,
      "outputs": [
        {
          "output_type": "stream",
          "name": "stdout",
          "text": [
            "Epoch   1\n",
            "| Loss(Train): 0.009000\n",
            "| Loss(Test) : 0.009173\n",
            "Epoch   2\n",
            "| Loss(Train): 0.008961\n",
            "| Loss(Test) : 0.009129\n",
            "Epoch   3\n",
            "| Loss(Train): 0.008917\n",
            "| Loss(Test) : 0.009078\n",
            "Epoch   4\n",
            "| Loss(Train): 0.008864\n",
            "| Loss(Test) : 0.009015\n",
            "Epoch   5\n",
            "| Loss(Train): 0.008800\n",
            "| Loss(Test) : 0.008945\n",
            "Epoch   6\n",
            "| Loss(Train): 0.008731\n",
            "| Loss(Test) : 0.008870\n",
            "Epoch   7\n",
            "| Loss(Train): 0.008656\n",
            "| Loss(Test) : 0.008787\n",
            "Epoch   8\n",
            "| Loss(Train): 0.008573\n",
            "| Loss(Test) : 0.008695\n",
            "Epoch   9\n",
            "| Loss(Train): 0.008480\n",
            "| Loss(Test) : 0.008592\n",
            "Epoch  10\n",
            "| Loss(Train): 0.008375\n",
            "| Loss(Test) : 0.008475\n",
            "Epoch  11\n",
            "| Loss(Train): 0.008257\n",
            "| Loss(Test) : 0.008343\n",
            "Epoch  12\n",
            "| Loss(Train): 0.008123\n",
            "| Loss(Test) : 0.008194\n",
            "Epoch  13\n",
            "| Loss(Train): 0.007971\n",
            "| Loss(Test) : 0.008026\n",
            "Epoch  14\n",
            "| Loss(Train): 0.007802\n",
            "| Loss(Test) : 0.007839\n",
            "Epoch  15\n",
            "| Loss(Train): 0.007613\n",
            "| Loss(Test) : 0.007631\n",
            "Epoch  16\n",
            "| Loss(Train): 0.007405\n",
            "| Loss(Test) : 0.007404\n",
            "Epoch  17\n",
            "| Loss(Train): 0.007179\n",
            "| Loss(Test) : 0.007159\n",
            "Epoch  18\n",
            "| Loss(Train): 0.006937\n",
            "| Loss(Test) : 0.006898\n",
            "Epoch  19\n",
            "| Loss(Train): 0.006682\n",
            "| Loss(Test) : 0.006626\n",
            "Epoch  20\n",
            "| Loss(Train): 0.006418\n",
            "| Loss(Test) : 0.006348\n",
            "Epoch  21\n",
            "| Loss(Train): 0.006151\n",
            "| Loss(Test) : 0.006070\n",
            "Epoch  22\n",
            "| Loss(Train): 0.005887\n",
            "| Loss(Test) : 0.005798\n",
            "Epoch  23\n",
            "| Loss(Train): 0.005631\n",
            "| Loss(Test) : 0.005539\n",
            "Epoch  24\n",
            "| Loss(Train): 0.005389\n",
            "| Loss(Test) : 0.005297\n",
            "Epoch  25\n",
            "| Loss(Train): 0.005163\n",
            "| Loss(Test) : 0.005073\n",
            "Epoch  26\n",
            "| Loss(Train): 0.004957\n",
            "| Loss(Test) : 0.004870\n",
            "Epoch  27\n",
            "| Loss(Train): 0.004769\n",
            "| Loss(Test) : 0.004687\n",
            "Epoch  28\n",
            "| Loss(Train): 0.004599\n",
            "| Loss(Test) : 0.004522\n",
            "Epoch  29\n",
            "| Loss(Train): 0.004446\n",
            "| Loss(Test) : 0.004373\n",
            "Epoch  30\n",
            "| Loss(Train): 0.004308\n",
            "| Loss(Test) : 0.004239\n",
            "Epoch  31\n",
            "| Loss(Train): 0.004182\n",
            "| Loss(Test) : 0.004118\n",
            "Epoch  32\n",
            "| Loss(Train): 0.004069\n",
            "| Loss(Test) : 0.004007\n",
            "Epoch  33\n",
            "| Loss(Train): 0.003965\n",
            "| Loss(Test) : 0.003907\n",
            "Epoch  34\n",
            "| Loss(Train): 0.003870\n",
            "| Loss(Test) : 0.003814\n",
            "Epoch  35\n",
            "| Loss(Train): 0.003783\n",
            "| Loss(Test) : 0.003729\n",
            "Epoch  36\n",
            "| Loss(Train): 0.003702\n",
            "| Loss(Test) : 0.003650\n",
            "Epoch  37\n",
            "| Loss(Train): 0.003627\n",
            "| Loss(Test) : 0.003577\n",
            "Epoch  38\n",
            "| Loss(Train): 0.003558\n",
            "| Loss(Test) : 0.003509\n",
            "Epoch  39\n",
            "| Loss(Train): 0.003493\n",
            "| Loss(Test) : 0.003445\n",
            "Epoch  40\n",
            "| Loss(Train): 0.003432\n",
            "| Loss(Test) : 0.003385\n",
            "Epoch  41\n",
            "| Loss(Train): 0.003375\n",
            "| Loss(Test) : 0.003330\n",
            "Epoch  42\n",
            "| Loss(Train): 0.003322\n",
            "| Loss(Test) : 0.003277\n",
            "Epoch  43\n",
            "| Loss(Train): 0.003272\n",
            "| Loss(Test) : 0.003227\n",
            "Epoch  44\n",
            "| Loss(Train): 0.003224\n",
            "| Loss(Test) : 0.003181\n",
            "Epoch  45\n",
            "| Loss(Train): 0.003180\n",
            "| Loss(Test) : 0.003137\n",
            "Epoch  46\n",
            "| Loss(Train): 0.003137\n",
            "| Loss(Test) : 0.003095\n",
            "Epoch  47\n",
            "| Loss(Train): 0.003097\n",
            "| Loss(Test) : 0.003055\n",
            "Epoch  48\n",
            "| Loss(Train): 0.003059\n",
            "| Loss(Test) : 0.003018\n",
            "Epoch  49\n",
            "| Loss(Train): 0.003023\n",
            "| Loss(Test) : 0.002982\n",
            "Epoch  50\n",
            "| Loss(Train): 0.002989\n",
            "| Loss(Test) : 0.002948\n",
            "Epoch  51\n",
            "| Loss(Train): 0.002956\n",
            "| Loss(Test) : 0.002916\n",
            "Epoch  52\n",
            "| Loss(Train): 0.002925\n",
            "| Loss(Test) : 0.002885\n",
            "Epoch  53\n",
            "| Loss(Train): 0.002896\n",
            "| Loss(Test) : 0.002855\n",
            "Epoch  54\n",
            "| Loss(Train): 0.002868\n",
            "| Loss(Test) : 0.002827\n",
            "Epoch  55\n",
            "| Loss(Train): 0.002841\n",
            "| Loss(Test) : 0.002801\n",
            "Epoch  56\n",
            "| Loss(Train): 0.002815\n",
            "| Loss(Test) : 0.002775\n",
            "Epoch  57\n",
            "| Loss(Train): 0.002790\n",
            "| Loss(Test) : 0.002750\n",
            "Epoch  58\n",
            "| Loss(Train): 0.002767\n",
            "| Loss(Test) : 0.002727\n",
            "Epoch  59\n",
            "| Loss(Train): 0.002744\n",
            "| Loss(Test) : 0.002705\n",
            "Epoch  60\n",
            "| Loss(Train): 0.002722\n",
            "| Loss(Test) : 0.002683\n",
            "Epoch  61\n",
            "| Loss(Train): 0.002702\n",
            "| Loss(Test) : 0.002662\n",
            "Epoch  62\n",
            "| Loss(Train): 0.002682\n",
            "| Loss(Test) : 0.002643\n",
            "Epoch  63\n",
            "| Loss(Train): 0.002663\n",
            "| Loss(Test) : 0.002623\n",
            "Epoch  64\n",
            "| Loss(Train): 0.002644\n",
            "| Loss(Test) : 0.002605\n",
            "Epoch  65\n",
            "| Loss(Train): 0.002626\n",
            "| Loss(Test) : 0.002587\n",
            "Epoch  66\n",
            "| Loss(Train): 0.002609\n",
            "| Loss(Test) : 0.002571\n",
            "Epoch  67\n",
            "| Loss(Train): 0.002593\n",
            "| Loss(Test) : 0.002554\n",
            "Epoch  68\n",
            "| Loss(Train): 0.002577\n",
            "| Loss(Test) : 0.002539\n",
            "Epoch  69\n",
            "| Loss(Train): 0.002562\n",
            "| Loss(Test) : 0.002523\n",
            "Epoch  70\n",
            "| Loss(Train): 0.002547\n",
            "| Loss(Test) : 0.002509\n",
            "Epoch  71\n",
            "| Loss(Train): 0.002533\n",
            "| Loss(Test) : 0.002495\n",
            "Epoch  72\n",
            "| Loss(Train): 0.002519\n",
            "| Loss(Test) : 0.002481\n",
            "Epoch  73\n",
            "| Loss(Train): 0.002506\n",
            "| Loss(Test) : 0.002468\n",
            "Epoch  74\n",
            "| Loss(Train): 0.002493\n",
            "| Loss(Test) : 0.002456\n",
            "Epoch  75\n",
            "| Loss(Train): 0.002481\n",
            "| Loss(Test) : 0.002443\n",
            "Epoch  76\n",
            "| Loss(Train): 0.002469\n",
            "| Loss(Test) : 0.002431\n",
            "Epoch  77\n",
            "| Loss(Train): 0.002457\n",
            "| Loss(Test) : 0.002420\n",
            "Epoch  78\n",
            "| Loss(Train): 0.002446\n",
            "| Loss(Test) : 0.002409\n",
            "Epoch  79\n",
            "| Loss(Train): 0.002435\n",
            "| Loss(Test) : 0.002398\n",
            "Epoch  80\n",
            "| Loss(Train): 0.002425\n",
            "| Loss(Test) : 0.002388\n",
            "Epoch  81\n",
            "| Loss(Train): 0.002414\n",
            "| Loss(Test) : 0.002377\n",
            "Epoch  82\n",
            "| Loss(Train): 0.002404\n",
            "| Loss(Test) : 0.002368\n",
            "Epoch  83\n",
            "| Loss(Train): 0.002395\n",
            "| Loss(Test) : 0.002358\n",
            "Epoch  84\n",
            "| Loss(Train): 0.002385\n",
            "| Loss(Test) : 0.002349\n",
            "Epoch  85\n",
            "| Loss(Train): 0.002376\n",
            "| Loss(Test) : 0.002340\n",
            "Epoch  86\n",
            "| Loss(Train): 0.002367\n",
            "| Loss(Test) : 0.002331\n",
            "Epoch  87\n",
            "| Loss(Train): 0.002359\n",
            "| Loss(Test) : 0.002322\n",
            "Epoch  88\n",
            "| Loss(Train): 0.002350\n",
            "| Loss(Test) : 0.002314\n",
            "Epoch  89\n",
            "| Loss(Train): 0.002342\n",
            "| Loss(Test) : 0.002306\n",
            "Epoch  90\n",
            "| Loss(Train): 0.002334\n",
            "| Loss(Test) : 0.002298\n",
            "Epoch  91\n",
            "| Loss(Train): 0.002326\n",
            "| Loss(Test) : 0.002290\n",
            "Epoch  92\n",
            "| Loss(Train): 0.002318\n",
            "| Loss(Test) : 0.002282\n",
            "Epoch  93\n",
            "| Loss(Train): 0.002311\n",
            "| Loss(Test) : 0.002275\n",
            "Epoch  94\n",
            "| Loss(Train): 0.002304\n",
            "| Loss(Test) : 0.002268\n",
            "Epoch  95\n",
            "| Loss(Train): 0.002297\n",
            "| Loss(Test) : 0.002261\n",
            "Epoch  96\n",
            "| Loss(Train): 0.002290\n",
            "| Loss(Test) : 0.002254\n",
            "Epoch  97\n",
            "| Loss(Train): 0.002283\n",
            "| Loss(Test) : 0.002247\n",
            "Epoch  98\n",
            "| Loss(Train): 0.002277\n",
            "| Loss(Test) : 0.002241\n",
            "Epoch  99\n",
            "| Loss(Train): 0.002270\n",
            "| Loss(Test) : 0.002234\n",
            "Epoch 100\n",
            "| Loss(Train): 0.002264\n",
            "| Loss(Test) : 0.002228\n",
            "\n",
            "Done!\n"
          ]
        }
      ]
    },
    {
      "cell_type": "code",
      "source": [
        "print(train_accuracies)\n",
        "print(test_accuracies)"
      ],
      "metadata": {
        "colab": {
          "base_uri": "https://localhost:8080/"
        },
        "id": "9SUmzzlv4IJE",
        "outputId": "ff9a250a-d067-4330-b03c-c4c160be3f23"
      },
      "execution_count": 13,
      "outputs": [
        {
          "output_type": "stream",
          "name": "stdout",
          "text": [
            "[16.400000000000002, 26.025, 33.73833333333333, 42.74, 48.84, 53.04833333333333, 56.105000000000004, 58.10333333333333, 59.43166666666667, 60.43166666666666, 61.193333333333335, 61.83, 62.54333333333333, 63.366666666666674, 64.105, 64.90833333333333, 65.67333333333333, 66.41833333333334, 67.17833333333333, 67.93, 68.75333333333333, 69.58333333333333, 70.50666666666666, 71.45, 72.32166666666666, 73.07833333333333, 73.74000000000001, 74.33666666666666, 74.77666666666667, 75.25166666666667, 75.61, 75.93166666666666, 76.30166666666666, 76.605, 76.86166666666666, 77.09833333333333, 77.32833333333333, 77.55833333333332, 77.81333333333333, 77.98833333333334, 78.17166666666667, 78.35, 78.55166666666666, 78.73333333333333, 78.87833333333333, 79.05, 79.205, 79.29166666666667, 79.39166666666667, 79.49666666666667, 79.62, 79.71333333333334, 79.83166666666666, 79.90833333333333, 79.985, 80.08999999999999, 80.19166666666668, 80.27166666666666, 80.33333333333333, 80.40833333333333, 80.495, 80.55666666666667, 80.66, 80.72500000000001, 80.79166666666666, 80.86333333333333, 80.93, 80.99166666666666, 81.04166666666667, 81.095, 81.145, 81.21000000000001, 81.27, 81.325, 81.39166666666667, 81.43666666666667, 81.48833333333333, 81.525, 81.54666666666667, 81.58999999999999, 81.61166666666666, 81.66, 81.70333333333333, 81.74166666666667, 81.785, 81.82833333333333, 81.85833333333333, 81.88166666666666, 81.91833333333334, 81.94666666666667, 81.97833333333332, 82.005, 82.025, 82.05333333333333, 82.07166666666666, 82.11333333333334, 82.13666666666667, 82.16499999999999, 82.185, 82.21833333333333]\n",
            "[21.759999999999998, 30.509999999999998, 39.21, 47.260000000000005, 51.790000000000006, 55.410000000000004, 57.85, 59.260000000000005, 60.35, 61.24000000000001, 61.96, 62.529999999999994, 63.17, 63.959999999999994, 64.75999999999999, 65.58, 66.44, 67.29, 68.08, 69.0, 70.00999999999999, 70.91, 71.97, 72.61999999999999, 73.37, 73.98, 74.69, 75.14, 75.52, 75.9, 76.27000000000001, 76.64, 76.92, 77.23, 77.47, 77.88000000000001, 78.10000000000001, 78.33, 78.53, 78.71000000000001, 78.86, 79.12, 79.25999999999999, 79.44, 79.63, 79.74, 79.9, 79.97, 80.05, 80.2, 80.31, 80.34, 80.45, 80.52, 80.67, 80.78, 80.86, 80.93, 80.99, 81.13, 81.16, 81.21000000000001, 81.28999999999999, 81.37, 81.42, 81.47, 81.51, 81.54, 81.61, 81.69, 81.75, 81.8, 81.88, 81.89999999999999, 82.0, 82.03, 82.06, 82.06, 82.09, 82.13000000000001, 82.15, 82.14, 82.17, 82.19, 82.23, 82.32000000000001, 82.34, 82.33, 82.38, 82.42, 82.41000000000001, 82.44, 82.47, 82.5, 82.54, 82.55, 82.56, 82.59, 82.66, 82.67]\n"
          ]
        }
      ]
    },
    {
      "cell_type": "markdown",
      "source": [],
      "metadata": {
        "id": "Z461KjxH4HdV"
      }
    },
    {
      "cell_type": "code",
      "source": [
        "def plot_acc(train_accs, test_accs, label1='train', label2='test'):\n",
        "  x = np.arange(len(train_accs))\n",
        "\n",
        "  plt.plot(x, train_accs, label=label1)\n",
        "  plt.plot(x, test_accs, label=label2)\n",
        "\n",
        "  plt.xlabel(\"Epoch\")\n",
        "  plt.ylabel(\"Accuracy (%)\")\n",
        "  plt.title(\"Training and Testing Accuracy per Epoch\")\n",
        "  plt.legend()\n",
        "  plt.grid(True)\n",
        "  plt.show()"
      ],
      "metadata": {
        "id": "fEuJx16EQ5Ur"
      },
      "execution_count": 16,
      "outputs": []
    },
    {
      "cell_type": "code",
      "source": [
        "plot_acc(train_accuracies, test_accuracies)"
      ],
      "metadata": {
        "colab": {
          "base_uri": "https://localhost:8080/",
          "height": 472
        },
        "id": "o_hTJcPgUlUS",
        "outputId": "147654ff-032b-466f-8e9b-17834e2e32b3"
      },
      "execution_count": 17,
      "outputs": [
        {
          "output_type": "display_data",
          "data": {
            "text/plain": [
              "<Figure size 640x480 with 1 Axes>"
            ],
            "image/png": "[encoded data removed]"
          },
          "metadata": {}
        }
      ]
    }
  ]
}