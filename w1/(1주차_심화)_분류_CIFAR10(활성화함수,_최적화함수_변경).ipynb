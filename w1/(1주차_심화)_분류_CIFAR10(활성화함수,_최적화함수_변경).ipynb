{
  "nbformat": 4,
  "nbformat_minor": 0,
  "metadata": {
    "colab": {
      "provenance": [],
      "collapsed_sections": [
        "Clk5zspHv44T"
      ],
      "gpuType": "T4",
      "authorship_tag": "ABX9TyNzklGJwtI5BVnG6bAyzFL6",
      "include_colab_link": true
    },
    "kernelspec": {
      "name": "python3",
      "display_name": "Python 3"
    },
    "language_info": {
      "name": "python"
    },
    "accelerator": "GPU"
  },
  "cells": [
    {
      "cell_type": "markdown",
      "metadata": {
        "id": "view-in-github",
        "colab_type": "text"
      },
      "source": [
        "<a href=\"https://colab.research.google.com/github/jylee9018/TIL-Tasks/blob/main/(1%EC%A3%BC%EC%B0%A8_%EC%8B%AC%ED%99%94)_%EB%B6%84%EB%A5%98_CIFAR10(%ED%99%9C%EC%84%B1%ED%99%94%ED%95%A8%EC%88%98%2C_%EC%B5%9C%EC%A0%81%ED%99%94%ED%95%A8%EC%88%98_%EB%B3%80%EA%B2%BD).ipynb\" target=\"_parent\"><img src=\"https://colab.research.google.com/assets/colab-badge.svg\" alt=\"Open In Colab\"/></a>"
      ]
    },
    {
      "cell_type": "markdown",
      "source": [
        "- 1주차 심화과제: MNIST → CIFAR10\n",
        "- 제출일: 2025.03.28."
      ],
      "metadata": {
        "id": "3mkRngOWRMVb"
      }
    },
    {
      "cell_type": "markdown",
      "source": [
        "### 0. Importing Libraries"
      ],
      "metadata": {
        "id": "pCOIjDaOKVFl"
      }
    },
    {
      "cell_type": "code",
      "execution_count": null,
      "metadata": {
        "id": "h-ugkIsOKAmb"
      },
      "outputs": [],
      "source": [
        "import torch\n",
        "from torch import nn\n",
        "from torch.utils.data import DataLoader\n",
        "from torchvision import datasets\n",
        "from torchvision.transforms import ToTensor\n",
        "\n",
        "import numpy as np\n",
        "from matplotlib import pyplot as plt"
      ]
    },
    {
      "cell_type": "markdown",
      "source": [
        "### 1. Datasets & Data loaders\n",
        "with the following parameters:\n",
        "- `root` is the path where the train/test data is stored,\n",
        "- `train` specifies training or test dataset,\n",
        "- `download=True` downloads the data from the internet if it’s not available at root.\n",
        "- `transform` and `target_transform` specify the feature and label transformations"
      ],
      "metadata": {
        "id": "U8YbH6dELrgx"
      }
    },
    {
      "cell_type": "markdown",
      "source": [
        "- CIFAR10: https://pytorch.org/vision/stable/generated/torchvision.datasets.CIFAR10.html"
      ],
      "metadata": {
        "id": "fB8jyAV9jRiY"
      }
    },
    {
      "cell_type": "code",
      "source": [
        "# Download training data from open datasets.\n",
        "train_data = datasets.CIFAR10(\n",
        "    root=\"./data\",\n",
        "    train=True,\n",
        "    download=True,\n",
        "    transform=ToTensor(),\n",
        ")\n",
        "\n",
        "# Download test data from open datasets.\n",
        "test_data = datasets.CIFAR10(\n",
        "    root=\"./data\",\n",
        "    train=False,\n",
        "    download=True,\n",
        "    transform=ToTensor(),\n",
        ")"
      ],
      "metadata": {
        "id": "zgNHXAyiKTt4"
      },
      "execution_count": null,
      "outputs": []
    },
    {
      "cell_type": "code",
      "source": [
        "print(train_data)\n",
        "print(test_data)"
      ],
      "metadata": {
        "colab": {
          "base_uri": "https://localhost:8080/"
        },
        "id": "IZepQ8WeLTzE",
        "outputId": "411d26dc-9d78-4365-cf00-8888311c8a28"
      },
      "execution_count": null,
      "outputs": [
        {
          "output_type": "stream",
          "name": "stdout",
          "text": [
            "Dataset CIFAR10\n",
            "    Number of datapoints: 50000\n",
            "    Root location: ./data\n",
            "    Split: Train\n",
            "    StandardTransform\n",
            "Transform: ToTensor()\n",
            "Dataset CIFAR10\n",
            "    Number of datapoints: 10000\n",
            "    Root location: ./data\n",
            "    Split: Test\n",
            "    StandardTransform\n",
            "Transform: ToTensor()\n"
          ]
        }
      ]
    },
    {
      "cell_type": "code",
      "source": [
        "print(len(train_data))\n",
        "print(len(train_data[0]))\n",
        "print(len(train_data[0][0]))\n",
        "print(len(train_data[0][0][0]))\n",
        "print(len(train_data[0][0][0][0]))\n",
        "print(train_data[0][0].shape, train_data[0][1])\n",
        "\n",
        "plt.imshow(train_data[0][0][0])"
      ],
      "metadata": {
        "colab": {
          "base_uri": "https://localhost:8080/",
          "height": 555
        },
        "id": "_JRIxz4yIysD",
        "outputId": "35d21894-30ba-4e0b-e528-3b2fecb198ad"
      },
      "execution_count": null,
      "outputs": [
        {
          "output_type": "stream",
          "name": "stdout",
          "text": [
            "50000\n",
            "2\n",
            "3\n",
            "32\n",
            "32\n",
            "torch.Size([3, 32, 32]) 6\n"
          ]
        },
        {
          "output_type": "execute_result",
          "data": {
            "text/plain": [
              "<matplotlib.image.AxesImage at 0x7983a7d9c5d0>"
            ]
          },
          "metadata": {},
          "execution_count": 4
        },
        {
          "output_type": "display_data",
          "data": {
            "text/plain": [
              "<Figure size 640x480 with 1 Axes>"
            ],
            "image/png": "[encoded data removed]"
          },
          "metadata": {}
        }
      ]
    },
    {
      "cell_type": "code",
      "source": [
        "train_data.classes"
      ],
      "metadata": {
        "colab": {
          "base_uri": "https://localhost:8080/"
        },
        "id": "yBGEVtJFkBE4",
        "outputId": "e9048814-8598-492e-98b6-a91d0b8fedba"
      },
      "execution_count": null,
      "outputs": [
        {
          "output_type": "execute_result",
          "data": {
            "text/plain": [
              "['airplane',\n",
              " 'automobile',\n",
              " 'bird',\n",
              " 'cat',\n",
              " 'deer',\n",
              " 'dog',\n",
              " 'frog',\n",
              " 'horse',\n",
              " 'ship',\n",
              " 'truck']"
            ]
          },
          "metadata": {},
          "execution_count": 5
        }
      ]
    },
    {
      "cell_type": "code",
      "source": [
        "X, y = train_data[0]            # 첫 번째 데이터포인트\n",
        "print(f\"Shape of X: {X.shape}\") # 이미지 텐서의 Shape 출력\n",
        "print(f\"Label: {y}\")            # 해당 이미지의 정답 레이블 출력"
      ],
      "metadata": {
        "colab": {
          "base_uri": "https://localhost:8080/"
        },
        "id": "ozQlz5v3pndC",
        "outputId": "ae35a026-6ef4-49bc-a99e-babc6af0dd14"
      },
      "execution_count": null,
      "outputs": [
        {
          "output_type": "stream",
          "name": "stdout",
          "text": [
            "Shape of X: torch.Size([3, 32, 32])\n",
            "Label: 6\n"
          ]
        }
      ]
    },
    {
      "cell_type": "code",
      "source": [
        " # batch_size = 64\n",
        "batch_size=256\n",
        "\n",
        "# Create data loaders.\n",
        "train_dataloader = DataLoader(train_data, batch_size=batch_size)\n",
        "test_dataloader = DataLoader(test_data, batch_size=batch_size)\n",
        "\n",
        "print(f\"train data loder\")\n",
        "for X, y in train_dataloader:\n",
        "    print(f\"Shape of X [N, C, H, W]: {X.shape}\")\n",
        "    print(f\"Shape of y: {y.shape} {y.dtype}\")\n",
        "    break\n",
        "\n",
        "print(f\"\\ntest data loder\")\n",
        "for X, y in test_dataloader:\n",
        "    print(f\"Shape of X [N, C, H, W]: {X.shape}\")\n",
        "    print(f\"Shape of y: {y.shape} {y.dtype}\")\n",
        "    break"
      ],
      "metadata": {
        "colab": {
          "base_uri": "https://localhost:8080/"
        },
        "id": "C9HksI_1Kma5",
        "outputId": "1811446c-3b12-4378-aa75-8ed2010da534"
      },
      "execution_count": null,
      "outputs": [
        {
          "output_type": "stream",
          "name": "stdout",
          "text": [
            "train data loder\n",
            "Shape of X [N, C, H, W]: torch.Size([256, 3, 32, 32])\n",
            "Shape of y: torch.Size([256]) torch.int64\n",
            "\n",
            "test data loder\n",
            "Shape of X [N, C, H, W]: torch.Size([256, 3, 32, 32])\n",
            "Shape of y: torch.Size([256]) torch.int64\n"
          ]
        }
      ]
    },
    {
      "cell_type": "markdown",
      "source": [
        "### 2. Creating Models"
      ],
      "metadata": {
        "id": "S3CmAwqZLyfm"
      }
    },
    {
      "cell_type": "code",
      "source": [
        "device = torch.accelerator.current_accelerator().type if torch.accelerator.is_available() else \"cpu\"\n",
        "print(f\"Using {device} device\")\n",
        "\n",
        "# Define model\n",
        "class Model(nn.Module):\n",
        "  def __init__(self, input_dim, n_dim):\n",
        "    super().__init__()\n",
        "\n",
        "    self.layer1 = nn.Linear(input_dim, n_dim)  # n_dim은 실험의 영역\n",
        "    self.layer2 = nn.Linear(n_dim, n_dim)\n",
        "    # self.layer3 = nn.Linear(n_dim, 1)\n",
        "    self.layer3 = nn.Linear(n_dim, 10)\n",
        "\n",
        "    # self.act = nn.ReLU()\n",
        "    self.act = nn.LeakyReLU()\n",
        "\n",
        "  def forward(self, x):\n",
        "    x = torch.flatten(x, start_dim=1)\n",
        "    x = self.act(self.layer1(x))\n",
        "    x = self.act(self.layer2(x))\n",
        "    x = self.act(self.layer3(x))\n",
        "\n",
        "    return x\n",
        "\n",
        "\n",
        "model = Model(28 * 28 * 1, 1024).to(device)\n",
        "print(model)"
      ],
      "metadata": {
        "colab": {
          "base_uri": "https://localhost:8080/"
        },
        "id": "WtNt_xCRLDTr",
        "outputId": "e0fd2cab-58a1-41ea-c579-ced6feb08cea"
      },
      "execution_count": null,
      "outputs": [
        {
          "output_type": "stream",
          "name": "stdout",
          "text": [
            "Using cuda device\n",
            "Model(\n",
            "  (layer1): Linear(in_features=784, out_features=1024, bias=True)\n",
            "  (layer2): Linear(in_features=1024, out_features=1024, bias=True)\n",
            "  (layer3): Linear(in_features=1024, out_features=10, bias=True)\n",
            "  (act): LeakyReLU(negative_slope=0.01)\n",
            ")\n"
          ]
        }
      ]
    },
    {
      "cell_type": "markdown",
      "source": [
        "### 3. Optimizing the Model Parameters"
      ],
      "metadata": {
        "id": "8ym0-mUVM8DX"
      }
    },
    {
      "cell_type": "code",
      "source": [
        "loss_fn = nn.CrossEntropyLoss()\n",
        "optimizer_sgd  = torch.optim.SGD(model.parameters(), lr=1e-3)\n",
        "optimizer_adam = torch.optim.Adam(model.parameters(), lr=1e-3)"
      ],
      "metadata": {
        "id": "AsIwGUz2MSge"
      },
      "execution_count": null,
      "outputs": []
    },
    {
      "cell_type": "code",
      "source": [
        "# 손실 및 정확도 저장 리스트\n",
        "train_losses = []\n",
        "test_losses = []\n",
        "train_accuracies_sgd = []\n",
        "train_accuracies_adam = []\n",
        "test_accuracies = []"
      ],
      "metadata": {
        "id": "pe0bXwfSUeg6"
      },
      "execution_count": null,
      "outputs": []
    },
    {
      "cell_type": "code",
      "source": [
        "def train(dataloader, model, loss_fn, optimizer, accuracy_list):\n",
        "    size = len(dataloader.dataset)\n",
        "    model.train()\n",
        "\n",
        "    total_loss, correct, total = 0., 0, 0\n",
        "    for batch, (X, y) in enumerate(dataloader):\n",
        "        X, y = X.to(device), y.to(device)\n",
        "\n",
        "        # 예측 및 손실 계산\n",
        "        pred = model(X)\n",
        "        loss = loss_fn(pred, y)\n",
        "\n",
        "        # 역전파(Backpropagation)\n",
        "        loss.backward()\n",
        "        optimizer.step()\n",
        "        optimizer.zero_grad()\n",
        "\n",
        "        # 손실 및 정확도 계산\n",
        "        total_loss += loss.item()  # 배치의 손실을 누적\n",
        "        correct += (pred.argmax(1) == y).type(torch.float).sum().item()\n",
        "        total += y.size(0)\n",
        "\n",
        "    # 훈련 데이터 정확도 저장\n",
        "    train_accuracy = correct / total * 100\n",
        "    accuracy_list.append(train_accuracy)\n",
        "\n",
        "    # 평균 손실 반환\n",
        "    return total_loss / size  # 데이터셋 크기로 나눠 평균 손실 반환"
      ],
      "metadata": {
        "id": "ToQzYGqsNBbq"
      },
      "execution_count": null,
      "outputs": []
    },
    {
      "cell_type": "markdown",
      "source": [
        "##### `argmax(dim=n)`:\n"
      ],
      "metadata": {
        "id": "Clk5zspHv44T"
      }
    },
    {
      "cell_type": "markdown",
      "source": [
        "    - 특정 차원(dim)에서 최댓값을 갖는 인덱스(index) 반환\n",
        "    - PyTorch\n",
        "        - `torch.argmax()`\n",
        "    - Numpy\n",
        "        - `np.argmax()`"
      ],
      "metadata": {
        "id": "VuGXr5p-CY8v"
      }
    },
    {
      "cell_type": "code",
      "source": [
        "a = torch.tensor(\n",
        "    [[1., 0.5, 0.],\n",
        "     [0., 1., 0.5],\n",
        "     [0., 0.5, 1.]])\n",
        "\n",
        "print(a.argmax(1))\n",
        "\n",
        "b = np.array(\n",
        "    [[1., 0.5, 0.],\n",
        "     [0., 1., 0.5],\n",
        "     [0., 0.5, 1.]])\n",
        "\n",
        "print(b.argmax(1))"
      ],
      "metadata": {
        "colab": {
          "base_uri": "https://localhost:8080/"
        },
        "id": "DF73VMwpvGh6",
        "outputId": "bd0cbf29-ee84-487b-f9a9-f8b791cef5dc"
      },
      "execution_count": null,
      "outputs": [
        {
          "output_type": "stream",
          "name": "stdout",
          "text": [
            "tensor([0, 1, 2])\n",
            "[0 1 2]\n"
          ]
        }
      ]
    },
    {
      "cell_type": "markdown",
      "source": [
        "### ."
      ],
      "metadata": {
        "id": "xKxOwzUKCh1z"
      }
    },
    {
      "cell_type": "code",
      "source": [
        "def test(dataloader, model, loss_fn):\n",
        "    size = len(dataloader.dataset)\n",
        "    model.eval()\n",
        "\n",
        "    total_loss, correct, total = 0., 0, 0\n",
        "    with torch.no_grad():\n",
        "        for X, y in dataloader:\n",
        "            X, y = X.to(device), y.to(device)\n",
        "            pred = model(X)\n",
        "            total_loss += loss_fn(pred, y).item()\n",
        "\n",
        "            # 정확도 계산\n",
        "            correct += (pred.argmax(1) == y).type(torch.float).sum().item()\n",
        "            total += y.size(0)\n",
        "\n",
        "    # 테스트 데이터 정확도 저장\n",
        "    test_accuracy = correct / total * 100\n",
        "    test_accuracies.append(test_accuracy)\n",
        "\n",
        "    # 평균 손실 반환\n",
        "    return total_loss / size"
      ],
      "metadata": {
        "id": "wKuq4s8iNCsb"
      },
      "execution_count": null,
      "outputs": []
    },
    {
      "cell_type": "code",
      "source": [
        "# # 모델 학습\n",
        "# n_epochs = 50\n",
        "# for epoch in range(n_epochs):\n",
        "#     train_loss = train(train_dataloader, model, loss_fn, optimizer_sgd, train_accuracies_sgd)\n",
        "#     test_loss = test(test_dataloader, model, loss_fn)\n",
        "\n",
        "#     # 결과 출력\n",
        "#     print(f\"Epoch {epoch + 1:3d}\")\n",
        "#     print(f\"| Loss(Train): {train_loss:.6f} | Loss(Test) : {test_loss:.6f}\")\n",
        "\n",
        "# print(\"\\nDone!\")"
      ],
      "metadata": {
        "id": "05y6K8PLNMi0"
      },
      "execution_count": null,
      "outputs": []
    },
    {
      "cell_type": "code",
      "source": [
        "# print(train_accuracies)\n",
        "# print(test_accuracies)"
      ],
      "metadata": {
        "id": "9SUmzzlv4IJE"
      },
      "execution_count": null,
      "outputs": []
    },
    {
      "cell_type": "markdown",
      "source": [],
      "metadata": {
        "id": "Z461KjxH4HdV"
      }
    },
    {
      "cell_type": "code",
      "source": [
        "def plot_acc(train_accs, test_accs, label1='train', label2='test'):\n",
        "  x = np.arange(len(train_accs))\n",
        "\n",
        "  plt.plot(x, train_accs, label=label1)\n",
        "  plt.plot(x, test_accs, label=label2)\n",
        "\n",
        "  plt.xlabel(\"Epoch\")\n",
        "  plt.ylabel(\"Accuracy (%)\")\n",
        "  plt.title(\"Training and Testing Accuracy per Epoch\")\n",
        "  plt.legend()\n",
        "  plt.grid(True)\n",
        "  plt.show()"
      ],
      "metadata": {
        "id": "fEuJx16EQ5Ur"
      },
      "execution_count": null,
      "outputs": []
    },
    {
      "cell_type": "code",
      "source": [
        "# plot_acc(train_accuracies, test_accuracies)"
      ],
      "metadata": {
        "id": "o_hTJcPgUlUS"
      },
      "execution_count": null,
      "outputs": []
    },
    {
      "cell_type": "code",
      "source": [
        "# 모델 초기화\n",
        "def reset_model(input_dim=3*32*32, n_dim=128):\n",
        "    model = Model(input_dim, n_dim).to(device)\n",
        "    return model\n",
        "\n",
        "# 훈련 실행\n",
        "num_epochs = 50\n",
        "\n",
        "# SGD 옵티마이저로 훈련\n",
        "model_sgd = reset_model()\n",
        "optimizer_sgd = torch.optim.SGD(model_sgd.parameters(), lr=0.01, momentum=0.9)\n",
        "\n",
        "print(\"\\nTraining with SGD...\")\n",
        "for epoch in range(num_epochs):\n",
        "    loss = train(train_dataloader, model_sgd, loss_fn, optimizer_sgd, train_accuracies_sgd)\n",
        "    print(f\"SGD Epoch {epoch+1}: Loss = {loss:.4f}, Accuracy = {train_accuracies_sgd[-1]:.2f}%\")\n",
        "\n",
        "# Adam 옵티마이저로 훈련\n",
        "model_adam = reset_model()\n",
        "optimizer_adam = torch.optim.Adam(model_adam.parameters(), lr=0.001)\n",
        "\n",
        "print(\"\\nTraining with Adam...\")\n",
        "for epoch in range(num_epochs):\n",
        "    loss = train(train_dataloader, model_adam, loss_fn, optimizer_adam, train_accuracies_adam)\n",
        "    print(f\"Adam Epoch {epoch+1}: Loss = {loss:.4f}, Accuracy = {train_accuracies_adam[-1]:.2f}%\")"
      ],
      "metadata": {
        "colab": {
          "base_uri": "https://localhost:8080/"
        },
        "id": "dizpObLdlSa9",
        "outputId": "61e4656d-d30c-4775-813f-9b8e31f0a796"
      },
      "execution_count": null,
      "outputs": [
        {
          "output_type": "stream",
          "name": "stdout",
          "text": [
            "\n",
            "Training with SGD...\n",
            "SGD Epoch 1: Loss = 0.0082, Accuracy = 25.20%\n",
            "SGD Epoch 2: Loss = 0.0072, Accuracy = 34.44%\n",
            "SGD Epoch 3: Loss = 0.0068, Accuracy = 38.37%\n",
            "SGD Epoch 4: Loss = 0.0065, Accuracy = 40.85%\n",
            "SGD Epoch 5: Loss = 0.0063, Accuracy = 42.93%\n",
            "SGD Epoch 6: Loss = 0.0061, Accuracy = 44.54%\n",
            "SGD Epoch 7: Loss = 0.0060, Accuracy = 45.83%\n",
            "SGD Epoch 8: Loss = 0.0059, Accuracy = 46.94%\n",
            "SGD Epoch 9: Loss = 0.0058, Accuracy = 47.91%\n",
            "SGD Epoch 10: Loss = 0.0057, Accuracy = 48.68%\n",
            "SGD Epoch 11: Loss = 0.0056, Accuracy = 49.36%\n",
            "SGD Epoch 12: Loss = 0.0055, Accuracy = 50.03%\n",
            "SGD Epoch 13: Loss = 0.0054, Accuracy = 50.89%\n",
            "SGD Epoch 14: Loss = 0.0054, Accuracy = 51.83%\n",
            "SGD Epoch 15: Loss = 0.0053, Accuracy = 52.47%\n",
            "SGD Epoch 16: Loss = 0.0052, Accuracy = 52.84%\n",
            "SGD Epoch 17: Loss = 0.0052, Accuracy = 53.29%\n",
            "SGD Epoch 18: Loss = 0.0051, Accuracy = 53.80%\n",
            "SGD Epoch 19: Loss = 0.0051, Accuracy = 54.42%\n",
            "SGD Epoch 20: Loss = 0.0050, Accuracy = 54.99%\n",
            "SGD Epoch 21: Loss = 0.0049, Accuracy = 55.43%\n",
            "SGD Epoch 22: Loss = 0.0049, Accuracy = 55.92%\n",
            "SGD Epoch 23: Loss = 0.0049, Accuracy = 56.21%\n",
            "SGD Epoch 24: Loss = 0.0048, Accuracy = 56.65%\n",
            "SGD Epoch 25: Loss = 0.0047, Accuracy = 57.31%\n",
            "SGD Epoch 26: Loss = 0.0047, Accuracy = 57.43%\n",
            "SGD Epoch 27: Loss = 0.0047, Accuracy = 57.81%\n",
            "SGD Epoch 28: Loss = 0.0047, Accuracy = 58.10%\n",
            "SGD Epoch 29: Loss = 0.0046, Accuracy = 58.60%\n",
            "SGD Epoch 30: Loss = 0.0046, Accuracy = 59.05%\n",
            "SGD Epoch 31: Loss = 0.0046, Accuracy = 59.31%\n",
            "SGD Epoch 32: Loss = 0.0045, Accuracy = 59.71%\n",
            "SGD Epoch 33: Loss = 0.0044, Accuracy = 60.30%\n",
            "SGD Epoch 34: Loss = 0.0044, Accuracy = 60.47%\n",
            "SGD Epoch 35: Loss = 0.0044, Accuracy = 61.06%\n",
            "SGD Epoch 36: Loss = 0.0043, Accuracy = 61.07%\n",
            "SGD Epoch 37: Loss = 0.0043, Accuracy = 61.53%\n",
            "SGD Epoch 38: Loss = 0.0043, Accuracy = 61.88%\n",
            "SGD Epoch 39: Loss = 0.0042, Accuracy = 62.26%\n",
            "SGD Epoch 40: Loss = 0.0042, Accuracy = 62.44%\n",
            "SGD Epoch 41: Loss = 0.0041, Accuracy = 62.65%\n",
            "SGD Epoch 42: Loss = 0.0041, Accuracy = 62.98%\n",
            "SGD Epoch 43: Loss = 0.0041, Accuracy = 63.14%\n",
            "SGD Epoch 44: Loss = 0.0041, Accuracy = 63.10%\n",
            "SGD Epoch 45: Loss = 0.0041, Accuracy = 63.44%\n",
            "SGD Epoch 46: Loss = 0.0041, Accuracy = 63.33%\n",
            "SGD Epoch 47: Loss = 0.0041, Accuracy = 63.21%\n",
            "SGD Epoch 48: Loss = 0.0040, Accuracy = 63.70%\n",
            "SGD Epoch 49: Loss = 0.0040, Accuracy = 63.60%\n",
            "SGD Epoch 50: Loss = 0.0040, Accuracy = 63.75%\n",
            "\n",
            "Training with Adam...\n",
            "Adam Epoch 1: Loss = 0.0077, Accuracy = 28.86%\n",
            "Adam Epoch 2: Loss = 0.0068, Accuracy = 38.31%\n",
            "Adam Epoch 3: Loss = 0.0065, Accuracy = 41.02%\n",
            "Adam Epoch 4: Loss = 0.0063, Accuracy = 43.07%\n",
            "Adam Epoch 5: Loss = 0.0061, Accuracy = 44.71%\n",
            "Adam Epoch 6: Loss = 0.0060, Accuracy = 46.17%\n",
            "Adam Epoch 7: Loss = 0.0058, Accuracy = 47.37%\n",
            "Adam Epoch 8: Loss = 0.0057, Accuracy = 48.25%\n",
            "Adam Epoch 9: Loss = 0.0056, Accuracy = 48.98%\n",
            "Adam Epoch 10: Loss = 0.0056, Accuracy = 49.69%\n",
            "Adam Epoch 11: Loss = 0.0055, Accuracy = 50.37%\n",
            "Adam Epoch 12: Loss = 0.0054, Accuracy = 51.10%\n",
            "Adam Epoch 13: Loss = 0.0053, Accuracy = 51.58%\n",
            "Adam Epoch 14: Loss = 0.0053, Accuracy = 52.15%\n",
            "Adam Epoch 15: Loss = 0.0052, Accuracy = 52.68%\n",
            "Adam Epoch 16: Loss = 0.0052, Accuracy = 53.31%\n",
            "Adam Epoch 17: Loss = 0.0051, Accuracy = 53.70%\n",
            "Adam Epoch 18: Loss = 0.0051, Accuracy = 54.05%\n",
            "Adam Epoch 19: Loss = 0.0050, Accuracy = 54.65%\n",
            "Adam Epoch 20: Loss = 0.0050, Accuracy = 54.97%\n",
            "Adam Epoch 21: Loss = 0.0049, Accuracy = 55.37%\n",
            "Adam Epoch 22: Loss = 0.0049, Accuracy = 55.74%\n",
            "Adam Epoch 23: Loss = 0.0048, Accuracy = 56.06%\n",
            "Adam Epoch 24: Loss = 0.0048, Accuracy = 56.63%\n",
            "Adam Epoch 25: Loss = 0.0048, Accuracy = 56.95%\n",
            "Adam Epoch 26: Loss = 0.0047, Accuracy = 57.14%\n",
            "Adam Epoch 27: Loss = 0.0047, Accuracy = 57.61%\n",
            "Adam Epoch 28: Loss = 0.0047, Accuracy = 57.70%\n",
            "Adam Epoch 29: Loss = 0.0047, Accuracy = 58.09%\n",
            "Adam Epoch 30: Loss = 0.0046, Accuracy = 58.11%\n",
            "Adam Epoch 31: Loss = 0.0046, Accuracy = 58.23%\n",
            "Adam Epoch 32: Loss = 0.0046, Accuracy = 58.46%\n",
            "Adam Epoch 33: Loss = 0.0046, Accuracy = 58.80%\n",
            "Adam Epoch 34: Loss = 0.0045, Accuracy = 59.03%\n",
            "Adam Epoch 35: Loss = 0.0045, Accuracy = 58.93%\n",
            "Adam Epoch 36: Loss = 0.0045, Accuracy = 59.32%\n",
            "Adam Epoch 37: Loss = 0.0045, Accuracy = 59.55%\n",
            "Adam Epoch 38: Loss = 0.0044, Accuracy = 59.81%\n",
            "Adam Epoch 39: Loss = 0.0044, Accuracy = 60.13%\n",
            "Adam Epoch 40: Loss = 0.0044, Accuracy = 59.96%\n",
            "Adam Epoch 41: Loss = 0.0044, Accuracy = 60.23%\n",
            "Adam Epoch 42: Loss = 0.0044, Accuracy = 60.48%\n",
            "Adam Epoch 43: Loss = 0.0043, Accuracy = 60.95%\n",
            "Adam Epoch 44: Loss = 0.0043, Accuracy = 60.99%\n",
            "Adam Epoch 45: Loss = 0.0043, Accuracy = 61.28%\n",
            "Adam Epoch 46: Loss = 0.0043, Accuracy = 61.47%\n",
            "Adam Epoch 47: Loss = 0.0043, Accuracy = 61.55%\n",
            "Adam Epoch 48: Loss = 0.0042, Accuracy = 61.75%\n",
            "Adam Epoch 49: Loss = 0.0042, Accuracy = 61.91%\n",
            "Adam Epoch 50: Loss = 0.0042, Accuracy = 62.16%\n"
          ]
        }
      ]
    },
    {
      "cell_type": "code",
      "source": [
        "def plot1_accuracy():\n",
        "    plt.plot(train_accuracies_sgd, label=\"SGD Accuracy\", marker=\"o\")\n",
        "    plt.plot(train_accuracies_adam, label=\"Adam Accuracy\", marker=\"s\")\n",
        "    plt.xlabel(\"Epochs\")\n",
        "    plt.ylabel(\"Accuracy (%)\")\n",
        "    plt.title(\"SGD vs Adam Training Accuracy\")\n",
        "    plt.legend()\n",
        "    plt.show()\n",
        "\n",
        "plot1_accuracy()"
      ],
      "metadata": {
        "colab": {
          "base_uri": "https://localhost:8080/",
          "height": 472
        },
        "id": "hlQYDAMkp5kb",
        "outputId": "d0850230-c98e-44b7-8ed4-79d6f87f3f37"
      },
      "execution_count": null,
      "outputs": [
        {
          "output_type": "display_data",
          "data": {
            "text/plain": [
              "<Figure size 640x480 with 1 Axes>"
            ],
            "image/png": "[encoded data removed]"
          },
          "metadata": {}
        }
      ]
    }
  ]
}