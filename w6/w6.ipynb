{
 "cells": [
  {
   "cell_type": "code",
   "execution_count": null,
   "id": "2d8a11b0",
   "metadata": {},
   "outputs": [
    {
     "name": "stderr",
     "output_type": "stream",
     "text": [
      "2025-05-08 18:25:28.555 \n",
      "  \u001b[33m\u001b[1mWarning:\u001b[0m to view this Streamlit app on a browser, run it with the following\n",
      "  command:\n",
      "\n",
      "    streamlit run /Users/jlee/anaconda3/envs/noname/lib/python3.11/site-packages/ipykernel_launcher.py [ARGUMENTS]\n"
     ]
    }
   ],
   "source": [
    "import base64\n",
    "import streamlit as st\n",
    "from dotenv import load_dotenv\n",
    "from langchain_openai import ChatOpenAI\n",
    "from langchain_core.messages import HumanMessage\n",
    "\n",
    "load_dotenv()\n",
    "\n",
    "st.title(\"Fashion Recommendation Bot\")\n",
    "model = ChatOpenAI(model=\"gpt-4o-mini\")\n",
    "if image := st.file_uploader(\"본인의 전신이 보이는 사진을 올려주세요!\", type=['png', 'jpg', 'jpeg']):\n",
    "    st.image(image)\n",
    "    image = base64.b64encode(image.read()).decode(\"utf-8\")\n",
    "    with st.chat_message(\"assistant\"):\n",
    "        message = HumanMessage(\n",
    "            content=[\n",
    "                {\"type\": \"text\", \"text\": \"사람의 전신이 찍혀있는 사진이 한 장 주어집니다. 이 때, 사진 속 사람과 어울리는 옷 및 패션 스타일을 추천해주세요.\"},\n",
    "                {\n",
    "                    \"type\": \"image_url\",\n",
    "                    \"image_url\": {\"url\": f\"data:image/jpeg;base64,{image}\"},\n",
    "                },\n",
    "            ],\n",
    "        )\n",
    "        result = model.invoke([message])\n",
    "        response = result.content\n",
    "        st.markdown(response)"
   ]
  },
  {
   "cell_type": "code",
   "execution_count": null,
   "id": "2b176ad2",
   "metadata": {},
   "outputs": [],
   "source": []
  }
 ],
 "metadata": {
  "kernelspec": {
   "display_name": "noname",
   "language": "python",
   "name": "python3"
  },
  "language_info": {
   "codemirror_mode": {
    "name": "ipython",
    "version": 3
   },
   "file_extension": ".py",
   "mimetype": "text/x-python",
   "name": "python",
   "nbconvert_exporter": "python",
   "pygments_lexer": "ipython3",
   "version": "3.11.0"
  }
 },
 "nbformat": 4,
 "nbformat_minor": 5
}
